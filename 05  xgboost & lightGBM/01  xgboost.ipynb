{
 "cells": [
  {
   "cell_type": "markdown",
   "metadata": {
    "toc": true
   },
   "source": [
    "<h1>Table of Contents<span class=\"tocSkip\"></span></h1>\n",
    "<div class=\"toc\"><ul class=\"toc-item\"></ul></div>"
   ]
  },
  {
   "cell_type": "markdown",
   "metadata": {},
   "source": [
    "xgboost 由 CART 决策树构成。CART（classification and regression tree），分成决策树生成和决策树剪枝两步。\n",
    "* 决策树生成：基于训练数据集生成决策树，生成的决策树要尽量大\n",
    "* 决策树剪枝：用验证数据集度已生成的树进行剪枝并选择最优子树，用损失函数最小作为剪枝标准。\n",
    "\n",
    "CART 决策树生成就是递归地构建二叉决策树的过程，对回归用平方误差最小化准则，对分类用基尼系数最小化准则，进行特征选择，生成二叉树。"
   ]
  },
  {
   "cell_type": "markdown",
   "metadata": {},
   "source": [
    "回归树模型可以表示为 $$f(x) = \\sum_{m=1}^M c_m I(x \\in R_m)$$\n",
    "其中 $I$ 是指示函数（通过条件判断取 1 或者 0），以上函数表示，$f(x)$ 将输入空间划分成了 $M$ 个单元 $R_1, R_2, \\cdots, R_M$，并且对每个单元 $R_m$ 上有一个固定的输出值 $c_m$。"
   ]
  },
  {
   "cell_type": "markdown",
   "metadata": {},
   "source": [
    "回归树的生成步骤：  \n",
    "（1）选择最优切分变量 $j$ 与 切分点 $s$，求解\n",
    "$$ \\min_{j,s}\\Big[\\min_{c_1}\\sum_{x_i \\in R_1(j,s)}(y_i - c_1)^2 + \\min_{c_2}\\sum_{x_i \\in R_2(j,s)}(y_i - c_2)^2\\Big] $$ 这里的 $c_m$ 是单元 $R_m$ 上所有输入实例 $x_i$ 对应的输出 $y_i$ 的均值。通过求解上式，遍历所有输入变量，找到最优的切分变量 $j$，构成一个对 $(j, s)$。"
   ]
  },
  {
   "cell_type": "markdown",
   "metadata": {
    "collapsed": true
   },
   "source": [
    "（2）用选定的对 $(j, s)$ 划分区域并决定相应地输出值：\n",
    "$$R_1(j,s) = \\{x \\vert x^{j} \\le s \\}, R_2(j,s) = \\{x \\vert x^{j} > s \\}$$\n",
    "$$\\hat{c_m} = \\frac{1}{N_m}\\sum_{x \\in R_m(j,s)} y_i, x \\in R_m, m=1,2$$"
   ]
  },
  {
   "cell_type": "code",
   "execution_count": null,
   "metadata": {},
   "outputs": [],
   "source": []
  }
 ],
 "metadata": {
  "kernelspec": {
   "display_name": "Python 3",
   "language": "python",
   "name": "python3"
  },
  "language_info": {
   "codemirror_mode": {
    "name": "ipython",
    "version": 3
   },
   "file_extension": ".py",
   "mimetype": "text/x-python",
   "name": "python",
   "nbconvert_exporter": "python",
   "pygments_lexer": "ipython3",
   "version": "3.7.2"
  },
  "toc": {
   "base_numbering": 1,
   "nav_menu": {},
   "number_sections": true,
   "sideBar": true,
   "skip_h1_title": true,
   "title_cell": "Table of Contents",
   "title_sidebar": "Contents",
   "toc_cell": true,
   "toc_position": {},
   "toc_section_display": true,
   "toc_window_display": false
  }
 },
 "nbformat": 4,
 "nbformat_minor": 2
}
