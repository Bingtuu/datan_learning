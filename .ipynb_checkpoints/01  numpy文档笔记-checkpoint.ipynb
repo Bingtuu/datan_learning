{
 "cells": [
  {
   "cell_type": "markdown",
   "metadata": {
    "toc": true
   },
   "source": [
    "<h1>Table of Contents<span class=\"tocSkip\"></span></h1>\n",
    "<div class=\"toc\"><ul class=\"toc-item\"><li><span><a href=\"#创建N维数组\" data-toc-modified-id=\"创建N维数组-1\"><span class=\"toc-item-num\">1&nbsp;&nbsp;</span>创建N维数组</a></span></li><li><span><a href=\"#数组索引与切片\" data-toc-modified-id=\"数组索引与切片-2\"><span class=\"toc-item-num\">2&nbsp;&nbsp;</span>数组索引与切片</a></span></li></ul></div>"
   ]
  },
  {
   "cell_type": "markdown",
   "metadata": {},
   "source": [
    "官方文档地址：https://numpy.org/doc/  \n",
    "中文网站：https://www.numpy.org.cn/"
   ]
  },
  {
   "cell_type": "code",
   "execution_count": 1,
   "metadata": {},
   "outputs": [
    {
     "data": {
      "text/plain": [
       "'1.18.1'"
      ]
     },
     "execution_count": 1,
     "metadata": {},
     "output_type": "execute_result"
    }
   ],
   "source": [
    "import numpy as np\n",
    "\n",
    "np.__version__"
   ]
  },
  {
   "cell_type": "markdown",
   "metadata": {},
   "source": [
    "#### 创建N维数组"
   ]
  },
  {
   "cell_type": "code",
   "execution_count": 5,
   "metadata": {},
   "outputs": [
    {
     "data": {
      "text/plain": [
       "array([[2, 4],\n",
       "       [7, 1]])"
      ]
     },
     "execution_count": 5,
     "metadata": {},
     "output_type": "execute_result"
    }
   ],
   "source": [
    "# 最基本的创建N维数组的方法：np.array()，可以指定类型也可以有numpy自动制定类型\n",
    "x = np.array([[2,4],[7,1]], np.int32)\n",
    "x"
   ]
  },
  {
   "cell_type": "code",
   "execution_count": 20,
   "metadata": {},
   "outputs": [],
   "source": [
    "# 创建N维数据的主要方式\n",
    "\n",
    "# 用序列创建\n",
    "x_from_arange = np.arange(20).reshape(4,5)\n",
    "x_from_arange_step = np.arange(6,30,2).reshape(3,4)\n",
    "\n",
    "# 创建 0 矩阵，1矩阵，单位矩阵 和 空矩阵\n",
    "x_zeros = np.zeros((3,4))\n",
    "x_ones = np.ones((2,2))\n",
    "x_empty = np.empty((3,2))\n",
    "x_eye = np.eye(3)\n",
    "\n",
    "#  0 矩阵，1矩阵 和 空矩阵 可以用 _like 方法来指定形状\n",
    "r = np.array([[2.3,5.1,1.2,1.9],[0,4.1,1.7,6.1],[1.0,3.9,3.2,1.1]], np.float64)\n",
    "r_ones = np.ones_like(r)"
   ]
  },
  {
   "cell_type": "code",
   "execution_count": 40,
   "metadata": {},
   "outputs": [
    {
     "data": {
      "text/plain": [
       "array([[1, 3, 5],\n",
       "       [0, 4, 6],\n",
       "       [0, 0, 7]])"
      ]
     },
     "execution_count": 40,
     "metadata": {},
     "output_type": "execute_result"
    }
   ],
   "source": [
    "# 其他创建N维数据的方法\n",
    "\n",
    "# 用固定值填满\n",
    "x_full = np.full((2, 3), 5)\n",
    "x_full_like = np.full_like(r, 6)\n",
    "\n",
    "# 线性空间：指定范围内等间距的数字\n",
    "x_linespace = np.linspace(2, 10, 5)\n",
    "\n",
    "# 线性空间：指定范围内以对数刻度均匀分布\n",
    "x_logspace = np.logspace(2, 10, 10)\n",
    "\n",
    "# 提取矩阵的对角线数据\n",
    "m = np.array([[1,3,5],[2,4,6],[1,4,7]])\n",
    "x_diag = np.diag(m)\n",
    "x_diag_dim = np.diag(m,1)\n",
    "x_diagflat = np.diagflat(m,1)\n",
    "\n",
    "# 主对角线及以下均为1，其余为0的矩阵\n",
    "x_tri = np.tri(5, 5, dtype=int)\n",
    "\n",
    "# 矩阵的上三角\n",
    "x_triu = np.triu(m)\n",
    "\n",
    "# 矩阵的下三角\n",
    "x_tril = np.tril(m)"
   ]
  },
  {
   "cell_type": "markdown",
   "metadata": {},
   "source": [
    "#### 数组索引与切片"
   ]
  },
  {
   "cell_type": "markdown",
   "metadata": {},
   "source": [
    "索引是指用方括号 `[]` 来获取N维数组中的值，对于只有1个维度的数据索引方法与python中的相同，而对于更高维的数组，则需要用多维索引。"
   ]
  },
  {
   "cell_type": "markdown",
   "metadata": {},
   "source": [
    "切片的基本方法是`arr[i:j:k]`，其中 $i$ 是起始索引，$j$ 是停止索引，$k$ 是步长。"
   ]
  },
  {
   "cell_type": "code",
   "execution_count": 62,
   "metadata": {},
   "outputs": [
    {
     "data": {
      "text/plain": [
       "array([0, 7, 4])"
      ]
     },
     "execution_count": 62,
     "metadata": {},
     "output_type": "execute_result"
    }
   ],
   "source": [
    "x_one_d_array = np.arange(0,10)\n",
    "x_one_d_array[2]       # 2\n",
    "x_one_d_array[-2]      # 8\n",
    "x_one_d_array[3:-1]    # array([3, 4, 5, 6, 7, 8])\n",
    "x_one_d_array[2:-1:2]  # array([2, 4, 6, 8])\n",
    "x_one_d_array[np.array([0,-3,-6])]   # array([0, 7, 4])，注意这个索引中，index允许重复或者负数，但是不能超过范围"
   ]
  },
  {
   "cell_type": "markdown",
   "metadata": {},
   "source": [
    "对于多维数组，索引的顺序是先行后列。"
   ]
  },
  {
   "cell_type": "code",
   "execution_count": 2,
   "metadata": {},
   "outputs": [
    {
     "data": {
      "text/plain": [
       "array([1, 4, 5])"
      ]
     },
     "execution_count": 2,
     "metadata": {},
     "output_type": "execute_result"
    }
   ],
   "source": [
    "x = np.array([[1, 2], [3, 4], [5, 6]])\n",
    "x[[0, 1, 2], [0, 1, 0]]    # array([1, 4, 5])"
   ]
  },
  {
   "cell_type": "code",
   "execution_count": 60,
   "metadata": {},
   "outputs": [
    {
     "data": {
      "text/plain": [
       "array([[ 9, 10]])"
      ]
     },
     "execution_count": 60,
     "metadata": {},
     "output_type": "execute_result"
    }
   ],
   "source": [
    "d = np.arange(16).reshape(4,4)\n",
    "d[2,2]       # 10\n",
    "d[2:]        # array([[ 8,  9, 10, 11],\n",
    "             #       [12, 13, 14, 15]])\n",
    "d[2:3]       # array([[ 8,  9, 10, 11]])\n",
    "d[2:3, 1:3]  # array([[ 9, 10]])"
   ]
  },
  {
   "cell_type": "code",
   "execution_count": 3,
   "metadata": {},
   "outputs": [
    {
     "data": {
      "text/plain": [
       "array([[ 7, 10, 13],\n",
       "       [21, 24, 27]])"
      ]
     },
     "execution_count": 3,
     "metadata": {},
     "output_type": "execute_result"
    }
   ],
   "source": [
    "y = np.arange(35).reshape(5,7)\n",
    "y[1:4:2,::3]     # array([[ 7, 10, 13],\n",
    "                #        [21, 24, 27]])"
   ]
  },
  {
   "cell_type": "code",
   "execution_count": 66,
   "metadata": {},
   "outputs": [
    {
     "data": {
      "text/plain": [
       "array([ 5,  6,  7,  8,  9, 10, 11, 12, 13, 14, 15])"
      ]
     },
     "execution_count": 66,
     "metadata": {},
     "output_type": "execute_result"
    }
   ],
   "source": [
    "# 布尔索引\n",
    "d = np.arange(16).reshape(4,4)\n",
    "d[d>4]"
   ]
  },
  {
   "cell_type": "code",
   "execution_count": null,
   "metadata": {},
   "outputs": [],
   "source": []
  }
 ],
 "metadata": {
  "kernelspec": {
   "display_name": "Python 3",
   "language": "python",
   "name": "python3"
  },
  "language_info": {
   "codemirror_mode": {
    "name": "ipython",
    "version": 3
   },
   "file_extension": ".py",
   "mimetype": "text/x-python",
   "name": "python",
   "nbconvert_exporter": "python",
   "pygments_lexer": "ipython3",
   "version": "3.7.2"
  },
  "toc": {
   "base_numbering": 1,
   "nav_menu": {},
   "number_sections": true,
   "sideBar": true,
   "skip_h1_title": true,
   "title_cell": "Table of Contents",
   "title_sidebar": "Contents",
   "toc_cell": true,
   "toc_position": {},
   "toc_section_display": true,
   "toc_window_display": false
  }
 },
 "nbformat": 4,
 "nbformat_minor": 2
}
