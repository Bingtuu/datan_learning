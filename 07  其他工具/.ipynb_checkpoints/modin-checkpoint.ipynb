{
 "cells": [
  {
   "cell_type": "markdown",
   "metadata": {
    "toc": true
   },
   "source": [
    "<h1>Table of Contents<span class=\"tocSkip\"></span></h1>\n",
    "<div class=\"toc\"><ul class=\"toc-item\"></ul></div>"
   ]
  },
  {
   "cell_type": "markdown",
   "metadata": {},
   "source": [
    "`modin` 是一个对 `pandas` 并行加速的工具，并行架构采用 [`ray`](https://github.com/ray-project/ray) 或者 [`dask`](https://dask.org/) ，window端目前只有 `dask` 版本，且安装时会遇到各种报错问题。"
   ]
  },
  {
   "cell_type": "code",
   "execution_count": 1,
   "metadata": {},
   "outputs": [
    {
     "data": {
      "text/plain": [
       "'0.7.1'"
      ]
     },
     "execution_count": 1,
     "metadata": {},
     "output_type": "execute_result"
    }
   ],
   "source": [
    "import modin\n",
    "modin.__version__"
   ]
  },
  {
   "cell_type": "code",
   "execution_count": 2,
   "metadata": {},
   "outputs": [
    {
     "name": "stderr",
     "output_type": "stream",
     "text": [
      "UserWarning: The Dask Engine for Modin is experimental.\n"
     ]
    }
   ],
   "source": [
    "import modin.pandas as pd"
   ]
  },
  {
   "cell_type": "code",
   "execution_count": 3,
   "metadata": {},
   "outputs": [
    {
     "data": {
      "text/plain": [
       "'0.25.3'"
      ]
     },
     "execution_count": 3,
     "metadata": {},
     "output_type": "execute_result"
    }
   ],
   "source": [
    "import pandas\n",
    "pandas.__version__"
   ]
  },
  {
   "cell_type": "code",
   "execution_count": 7,
   "metadata": {},
   "outputs": [],
   "source": [
    "from pandas import read_csv"
   ]
  },
  {
   "cell_type": "code",
   "execution_count": 10,
   "metadata": {},
   "outputs": [
    {
     "name": "stdout",
     "output_type": "stream",
     "text": [
      "Wall time: 0 ns\n",
      "<class 'pandas.core.frame.DataFrame'>\n",
      "RangeIndex: 54294 entries, 0 to 54293\n",
      "Data columns (total 39 columns):\n",
      "permalink               49438 non-null object\n",
      "name                    49437 non-null object\n",
      "homepage_url            45989 non-null object\n",
      "category_list           45477 non-null object\n",
      " market                 45470 non-null object\n",
      " funding_total_usd      49438 non-null object\n",
      "status                  48124 non-null object\n",
      "country_code            44165 non-null object\n",
      "state_code              30161 non-null object\n",
      "region                  44165 non-null object\n",
      "city                    43322 non-null object\n",
      "funding_rounds          49438 non-null float64\n",
      "founded_at              38554 non-null object\n",
      "founded_month           38482 non-null object\n",
      "founded_quarter         38482 non-null object\n",
      "founded_year            38482 non-null float64\n",
      "first_funding_at        49438 non-null object\n",
      "last_funding_at         49438 non-null object\n",
      "seed                    49438 non-null float64\n",
      "venture                 49438 non-null float64\n",
      "equity_crowdfunding     49438 non-null float64\n",
      "undisclosed             49438 non-null float64\n",
      "convertible_note        49438 non-null float64\n",
      "debt_financing          49438 non-null float64\n",
      "angel                   49438 non-null float64\n",
      "grant                   49438 non-null float64\n",
      "private_equity          49438 non-null float64\n",
      "post_ipo_equity         49438 non-null float64\n",
      "post_ipo_debt           49438 non-null float64\n",
      "secondary_market        49438 non-null float64\n",
      "product_crowdfunding    49438 non-null float64\n",
      "round_A                 49438 non-null float64\n",
      "round_B                 49438 non-null float64\n",
      "round_C                 49438 non-null float64\n",
      "round_D                 49438 non-null float64\n",
      "round_E                 49438 non-null float64\n",
      "round_F                 49438 non-null float64\n",
      "round_G                 49438 non-null float64\n",
      "round_H                 49438 non-null float64\n",
      "dtypes: float64(23), object(16)\n",
      "memory usage: 16.2+ MB\n"
     ]
    }
   ],
   "source": [
    "%time\n",
    "data_pandas = read_csv(r'datasets\\investments_VC.csv', encoding='ISO-8859-2')\n",
    "data_pandas.info()"
   ]
  },
  {
   "cell_type": "code",
   "execution_count": 11,
   "metadata": {},
   "outputs": [
    {
     "name": "stdout",
     "output_type": "stream",
     "text": [
      "Wall time: 0 ns\n"
     ]
    },
    {
     "name": "stderr",
     "output_type": "stream",
     "text": [
      "UserWarning: `DataFrame.info` defaulting to pandas implementation.\n",
      "To request implementation, send an email to feature_requests@modin.org.\n",
      "UserWarning: Distributing <class 'pandas.core.frame.DataFrame'> object. This may take some time.\n"
     ]
    },
    {
     "name": "stdout",
     "output_type": "stream",
     "text": [
      "<class 'modin.pandas.dataframe.DataFrame'>\n",
      "RangeIndex: 54294 entries, 0 to 54293\n",
      "Data columns (total 39 columns):\n",
      "permalink               49438 non-null object\n",
      "name                    49437 non-null object\n",
      "homepage_url            45989 non-null object\n",
      "category_list           45477 non-null object\n",
      " market                 45470 non-null object\n",
      " funding_total_usd      49438 non-null object\n",
      "status                  48124 non-null object\n",
      "country_code            44165 non-null object\n",
      "state_code              30161 non-null object\n",
      "region                  44165 non-null object\n",
      "city                    43322 non-null object\n",
      "funding_rounds          49438 non-null float64\n",
      "founded_at              38554 non-null object\n",
      "founded_month           38482 non-null object\n",
      "founded_quarter         38482 non-null object\n",
      "founded_year            38482 non-null float64\n",
      "first_funding_at        49438 non-null object\n",
      "last_funding_at         49438 non-null object\n",
      "seed                    49438 non-null float64\n",
      "venture                 49438 non-null float64\n",
      "equity_crowdfunding     49438 non-null float64\n",
      "undisclosed             49438 non-null float64\n",
      "convertible_note        49438 non-null float64\n",
      "debt_financing          49438 non-null float64\n",
      "angel                   49438 non-null float64\n",
      "grant                   49438 non-null float64\n",
      "private_equity          49438 non-null float64\n",
      "post_ipo_equity         49438 non-null float64\n",
      "post_ipo_debt           49438 non-null float64\n",
      "secondary_market        49438 non-null float64\n",
      "product_crowdfunding    49438 non-null float64\n",
      "round_A                 49438 non-null float64\n",
      "round_B                 49438 non-null float64\n",
      "round_C                 49438 non-null float64\n",
      "round_D                 49438 non-null float64\n",
      "round_E                 49438 non-null float64\n",
      "round_F                 49438 non-null float64\n",
      "round_G                 49438 non-null float64\n",
      "round_H                 49438 non-null float64\n",
      "dtypes: float64(23), object(16)\n",
      "memory usage: 16.2+ MB\n"
     ]
    }
   ],
   "source": [
    "%time\n",
    "data_modin = pd.read_csv(r'datasets\\investments_VC.csv', encoding='ISO-8859-2')\n",
    "data_modin.info()"
   ]
  },
  {
   "cell_type": "code",
   "execution_count": null,
   "metadata": {},
   "outputs": [],
   "source": []
  }
 ],
 "metadata": {
  "kernelspec": {
   "display_name": "Python 3",
   "language": "python",
   "name": "python3"
  },
  "language_info": {
   "codemirror_mode": {
    "name": "ipython",
    "version": 3
   },
   "file_extension": ".py",
   "mimetype": "text/x-python",
   "name": "python",
   "nbconvert_exporter": "python",
   "pygments_lexer": "ipython3",
   "version": "3.7.2"
  },
  "toc": {
   "base_numbering": 1,
   "nav_menu": {},
   "number_sections": true,
   "sideBar": true,
   "skip_h1_title": true,
   "title_cell": "Table of Contents",
   "title_sidebar": "Contents",
   "toc_cell": true,
   "toc_position": {},
   "toc_section_display": true,
   "toc_window_display": false
  }
 },
 "nbformat": 4,
 "nbformat_minor": 4
}
