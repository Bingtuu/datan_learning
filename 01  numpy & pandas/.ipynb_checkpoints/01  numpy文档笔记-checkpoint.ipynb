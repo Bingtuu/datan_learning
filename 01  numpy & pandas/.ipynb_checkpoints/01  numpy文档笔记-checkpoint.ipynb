{
 "cells": [
  {
   "cell_type": "markdown",
   "metadata": {
    "toc": true
   },
   "source": [
    "<h1>Table of Contents<span class=\"tocSkip\"></span></h1>\n",
    "<div class=\"toc\"><ul class=\"toc-item\"><li><span><a href=\"#创建N维数组\" data-toc-modified-id=\"创建N维数组-1\"><span class=\"toc-item-num\">1&nbsp;&nbsp;</span>创建N维数组</a></span></li><li><span><a href=\"#数组索引与切片\" data-toc-modified-id=\"数组索引与切片-2\"><span class=\"toc-item-num\">2&nbsp;&nbsp;</span>数组索引与切片</a></span></li><li><span><a href=\"#创建数组副本的方法\" data-toc-modified-id=\"创建数组副本的方法-3\"><span class=\"toc-item-num\">3&nbsp;&nbsp;</span>创建数组副本的方法</a></span></li><li><span><a href=\"#数组拼接与分裂\" data-toc-modified-id=\"数组拼接与分裂-4\"><span class=\"toc-item-num\">4&nbsp;&nbsp;</span>数组拼接与分裂</a></span></li><li><span><a href=\"#数组属性\" data-toc-modified-id=\"数组属性-5\"><span class=\"toc-item-num\">5&nbsp;&nbsp;</span>数组属性</a></span></li><li><span><a href=\"#常量\" data-toc-modified-id=\"常量-6\"><span class=\"toc-item-num\">6&nbsp;&nbsp;</span>常量</a></span></li><li><span><a href=\"#广播机制\" data-toc-modified-id=\"广播机制-7\"><span class=\"toc-item-num\">7&nbsp;&nbsp;</span>广播机制</a></span></li></ul></div>"
   ]
  },
  {
   "cell_type": "markdown",
   "metadata": {},
   "source": [
    "官方文档地址：https://numpy.org/doc/  \n",
    "中文网站：https://www.numpy.org.cn/"
   ]
  },
  {
   "cell_type": "code",
   "execution_count": 1,
   "metadata": {},
   "outputs": [
    {
     "data": {
      "text/plain": [
       "'1.18.1'"
      ]
     },
     "execution_count": 1,
     "metadata": {},
     "output_type": "execute_result"
    }
   ],
   "source": [
    "import numpy as np\n",
    "\n",
    "np.__version__"
   ]
  },
  {
   "cell_type": "markdown",
   "metadata": {},
   "source": [
    "速查表"
   ]
  },
  {
   "cell_type": "markdown",
   "metadata": {},
   "source": [
    "![numpy_cheat_sheet](https://storage.googleapis.com/molten/lava/2018/09/d84c3e64-numpy-cheat-sheet.jpg)"
   ]
  },
  {
   "cell_type": "markdown",
   "metadata": {},
   "source": [
    "#### 创建N维数组"
   ]
  },
  {
   "cell_type": "code",
   "execution_count": 5,
   "metadata": {},
   "outputs": [
    {
     "data": {
      "text/plain": [
       "array([[2, 4],\n",
       "       [7, 1]])"
      ]
     },
     "execution_count": 5,
     "metadata": {},
     "output_type": "execute_result"
    }
   ],
   "source": [
    "# 最基本的创建N维数组的方法：np.array()，可以指定类型也可以有numpy自动制定类型\n",
    "x = np.array([[2,4],[7,1]], np.int32)\n",
    "x"
   ]
  },
  {
   "cell_type": "code",
   "execution_count": 20,
   "metadata": {},
   "outputs": [],
   "source": [
    "# 创建N维数据的主要方式\n",
    "\n",
    "# 用序列创建\n",
    "x_from_arange = np.arange(20).reshape(4,5)\n",
    "x_from_arange_step = np.arange(6,30,2).reshape(3,4)\n",
    "\n",
    "# 创建 0 矩阵，1矩阵，单位矩阵 和 空矩阵\n",
    "x_zeros = np.zeros((3,4))\n",
    "x_ones = np.ones((2,2))\n",
    "x_empty = np.empty((3,2))\n",
    "x_eye = np.eye(3)\n",
    "\n",
    "#  0 矩阵，1矩阵 和 空矩阵 可以用 _like 方法来指定形状\n",
    "r = np.array([[2.3,5.1,1.2,1.9],[0,4.1,1.7,6.1],[1.0,3.9,3.2,1.1]], np.float64)\n",
    "r_ones = np.ones_like(r)"
   ]
  },
  {
   "cell_type": "code",
   "execution_count": 40,
   "metadata": {},
   "outputs": [
    {
     "data": {
      "text/plain": [
       "array([[1, 3, 5],\n",
       "       [0, 4, 6],\n",
       "       [0, 0, 7]])"
      ]
     },
     "execution_count": 40,
     "metadata": {},
     "output_type": "execute_result"
    }
   ],
   "source": [
    "# 其他创建N维数据的方法\n",
    "\n",
    "# 用固定值填满\n",
    "x_full = np.full((2, 3), 5)\n",
    "x_full_like = np.full_like(r, 6)\n",
    "\n",
    "# 线性空间：指定范围内等间距的数字\n",
    "x_linespace = np.linspace(2, 10, 5)\n",
    "\n",
    "# 线性空间：指定范围内以对数刻度均匀分布\n",
    "x_logspace = np.logspace(2, 10, 10)\n",
    "\n",
    "# 提取矩阵的对角线数据\n",
    "m = np.array([[1,3,5],[2,4,6],[1,4,7]])\n",
    "x_diag = np.diag(m)\n",
    "x_diag_dim = np.diag(m,1)\n",
    "x_diagflat = np.diagflat(m,1)\n",
    "\n",
    "# 主对角线及以下均为1，其余为0的矩阵\n",
    "x_tri = np.tri(5, 5, dtype=int)\n",
    "\n",
    "# 矩阵的上三角\n",
    "x_triu = np.triu(m)\n",
    "\n",
    "# 矩阵的下三角\n",
    "x_tril = np.tril(m)"
   ]
  },
  {
   "cell_type": "markdown",
   "metadata": {},
   "source": [
    "创建n维数组时可以指定数组的数据类型，通过 `dtype=`，numpy 中的标准数据类型如下表。（来自[《python数据科学手册》](https://book.douban.com/subject/27667378/)）"
   ]
  },
  {
   "cell_type": "markdown",
   "metadata": {},
   "source": [
    "![dtypes](pics\\dtypes.png)"
   ]
  },
  {
   "cell_type": "markdown",
   "metadata": {},
   "source": [
    "#### 数组索引与切片"
   ]
  },
  {
   "cell_type": "markdown",
   "metadata": {},
   "source": [
    "索引是指用方括号 `[]` 来获取N维数组中的值，对于只有1个维度的数据索引方法与python中的相同，而对于更高维的数组，则需要用多维索引。"
   ]
  },
  {
   "cell_type": "markdown",
   "metadata": {},
   "source": [
    "切片的基本方法是`arr[i:j:k]`，其中 $i$ 是起始索引，$j$ 是停止索引，$k$ 是步长。"
   ]
  },
  {
   "cell_type": "code",
   "execution_count": 62,
   "metadata": {},
   "outputs": [
    {
     "data": {
      "text/plain": [
       "array([0, 7, 4])"
      ]
     },
     "execution_count": 62,
     "metadata": {},
     "output_type": "execute_result"
    }
   ],
   "source": [
    "x_one_d_array = np.arange(0,10)\n",
    "x_one_d_array[2]       # 2\n",
    "x_one_d_array[-2]      # 8\n",
    "x_one_d_array[3:-1]    # array([3, 4, 5, 6, 7, 8])\n",
    "x_one_d_array[2:-1:2]  # array([2, 4, 6, 8])\n",
    "x_one_d_array[np.array([0,-3,-6])]   # array([0, 7, 4])，注意这个索引中，index允许重复或者负数，但是不能超过范围"
   ]
  },
  {
   "cell_type": "markdown",
   "metadata": {},
   "source": [
    "对于多维数组，索引的顺序是先行后列。"
   ]
  },
  {
   "cell_type": "code",
   "execution_count": 2,
   "metadata": {},
   "outputs": [
    {
     "data": {
      "text/plain": [
       "array([1, 4, 5])"
      ]
     },
     "execution_count": 2,
     "metadata": {},
     "output_type": "execute_result"
    }
   ],
   "source": [
    "x = np.array([[1, 2], [3, 4], [5, 6]])\n",
    "x[[0, 1, 2], [0, 1, 0]]    # array([1, 4, 5])"
   ]
  },
  {
   "cell_type": "code",
   "execution_count": 60,
   "metadata": {},
   "outputs": [
    {
     "data": {
      "text/plain": [
       "array([[ 9, 10]])"
      ]
     },
     "execution_count": 60,
     "metadata": {},
     "output_type": "execute_result"
    }
   ],
   "source": [
    "d = np.arange(16).reshape(4,4)\n",
    "d[2,2]       # 10\n",
    "d[2:]        # array([[ 8,  9, 10, 11],\n",
    "             #       [12, 13, 14, 15]])\n",
    "d[2:3]       # array([[ 8,  9, 10, 11]])\n",
    "d[2:3, 1:3]  # array([[ 9, 10]])"
   ]
  },
  {
   "cell_type": "code",
   "execution_count": 4,
   "metadata": {},
   "outputs": [
    {
     "data": {
      "text/plain": [
       "array([[0, 1, 2],\n",
       "       [7, 8, 9]])"
      ]
     },
     "execution_count": 4,
     "metadata": {},
     "output_type": "execute_result"
    }
   ],
   "source": [
    "y = np.arange(35).reshape(5, 7)\n",
    "y[1:4:2, ::3]     # array([[ 7, 10, 13],\n",
    "                  #        [21, 24, 27]])\n",
    "y[:2, :3] "
   ]
  },
  {
   "cell_type": "code",
   "execution_count": 3,
   "metadata": {},
   "outputs": [
    {
     "data": {
      "text/plain": [
       "array([[5, 4, 3],\n",
       "       [4, 3, 2],\n",
       "       [3, 2, 1]])"
      ]
     },
     "execution_count": 3,
     "metadata": {},
     "output_type": "execute_result"
    }
   ],
   "source": [
    "a = np.array([[1, 2, 3], [2, 3, 4], [3, 4, 5]])\n",
    "a[::-1,::-1]"
   ]
  },
  {
   "cell_type": "code",
   "execution_count": 66,
   "metadata": {},
   "outputs": [
    {
     "data": {
      "text/plain": [
       "array([ 5,  6,  7,  8,  9, 10, 11, 12, 13, 14, 15])"
      ]
     },
     "execution_count": 66,
     "metadata": {},
     "output_type": "execute_result"
    }
   ],
   "source": [
    "# 布尔索引\n",
    "d = np.arange(16).reshape(4,4)\n",
    "d[d>4]"
   ]
  },
  {
   "cell_type": "markdown",
   "metadata": {},
   "source": [
    "#### 创建数组副本的方法"
   ]
  },
  {
   "cell_type": "code",
   "execution_count": 5,
   "metadata": {},
   "outputs": [
    {
     "data": {
      "text/plain": [
       "array([[ 2, 99],\n",
       "       [ 3,  6]])"
      ]
     },
     "execution_count": 5,
     "metadata": {},
     "output_type": "execute_result"
    }
   ],
   "source": [
    "# 直接赋值给另一个数组，如果发生变化，两个数组将同时被改变\n",
    "a = np.array([[2, 4], [3, 6]])\n",
    "b = a\n",
    "b[0, 1] = 99\n",
    "a"
   ]
  },
  {
   "cell_type": "code",
   "execution_count": 6,
   "metadata": {},
   "outputs": [
    {
     "data": {
      "text/plain": [
       "array([[2, 4],\n",
       "       [3, 6]])"
      ]
     },
     "execution_count": 6,
     "metadata": {},
     "output_type": "execute_result"
    }
   ],
   "source": [
    "a = np.array([[2, 4], [3, 6]])\n",
    "b = a.copy()\n",
    "b[0, 1] = 99\n",
    "a"
   ]
  },
  {
   "cell_type": "markdown",
   "metadata": {},
   "source": [
    "#### 数组拼接与分裂"
   ]
  },
  {
   "cell_type": "code",
   "execution_count": 12,
   "metadata": {},
   "outputs": [
    {
     "data": {
      "text/plain": [
       "array([[2, 3, 4, 9, 8, 7],\n",
       "       [4, 5, 6, 6, 7, 9]])"
      ]
     },
     "execution_count": 12,
     "metadata": {},
     "output_type": "execute_result"
    }
   ],
   "source": [
    "a = np.array([[2, 3, 4], [4, 5, 6]])\n",
    "b = np.array([[9, 8, 7], [6, 7, 9]])\n",
    "np.concatenate([a, b], axis=0)\n",
    "np.concatenate([a, b], axis=1)"
   ]
  },
  {
   "cell_type": "markdown",
   "metadata": {},
   "source": [
    "`np.stack()`、`np.vstack()` 和 `np.hstack()` 的用法可以参考下图（来源medium需强国）"
   ]
  },
  {
   "cell_type": "markdown",
   "metadata": {},
   "source": [
    "![vstack_and_hstack](https://miro.medium.com/max/1645/1*i5yqTKWOY7Iyl6AD-62u8Q.png)"
   ]
  },
  {
   "cell_type": "markdown",
   "metadata": {},
   "source": [
    "#### 数组属性"
   ]
  },
  {
   "cell_type": "code",
   "execution_count": 9,
   "metadata": {},
   "outputs": [
    {
     "data": {
      "text/plain": [
       "array([[2. , 7. , 1.1],\n",
       "       [3. , 8. , 1.5],\n",
       "       [4. , 9. , 2. ]])"
      ]
     },
     "execution_count": 9,
     "metadata": {},
     "output_type": "execute_result"
    }
   ],
   "source": [
    "x = np.array([[2, 3, 4], [7, 8, 9], [1.1, 1.5, 2.0]])\n",
    "x.shape     # (3, 3)，数组每个维度的大小\n",
    "x.size      # 9 ，数组总大小\n",
    "x.ndim      # 2，数组的维度\n",
    "x.dtype     # dtype('float64')\n",
    "x.T         # array([[2. , 7. , 1.1],\n",
    "            #        [3. , 8. , 1.5],\n",
    "            #       [4. , 9. , 2. ]])"
   ]
  },
  {
   "cell_type": "markdown",
   "metadata": {},
   "source": [
    "####  常量"
   ]
  },
  {
   "cell_type": "code",
   "execution_count": 4,
   "metadata": {},
   "outputs": [
    {
     "data": {
      "text/plain": [
       "inf"
      ]
     },
     "execution_count": 4,
     "metadata": {},
     "output_type": "execute_result"
    }
   ],
   "source": [
    "# 几个常量\n",
    "\n",
    "np.Inf         # 表示（正）无穷大\n",
    "np.NaN         # nan，非数字\n",
    "np.Infinity    # 表示（正）无穷大"
   ]
  },
  {
   "cell_type": "code",
   "execution_count": 13,
   "metadata": {},
   "outputs": [
    {
     "data": {
      "text/plain": [
       "array([[1.1, 1. , 2.1],\n",
       "       [2. , 1. , 4.1]])"
      ]
     },
     "execution_count": 13,
     "metadata": {},
     "output_type": "execute_result"
    }
   ],
   "source": [
    "x = np.array([[1.1, np.nan, 2.1], [2, np.nan, 4.1]])\n",
    "x[np.isnan(x)] = 1\n",
    "x       # array([[1.1, 1. , 2.1],\n",
    "        #        [2. , 1. , 4.1]])"
   ]
  },
  {
   "cell_type": "markdown",
   "metadata": {},
   "source": [
    "#### 广播机制"
   ]
  },
  {
   "cell_type": "code",
   "execution_count": 8,
   "metadata": {},
   "outputs": [
    {
     "data": {
      "text/plain": [
       "array([[3, 2],\n",
       "       [5, 4]])"
      ]
     },
     "execution_count": 8,
     "metadata": {},
     "output_type": "execute_result"
    }
   ],
   "source": [
    "a_arr = np.array([2,1])\n",
    "b_arr = np.array([[1,1], [3,3]])\n",
    "c_arr = b_arr + a_arr\n",
    "c_arr"
   ]
  },
  {
   "cell_type": "markdown",
   "metadata": {},
   "source": [
    "**广播**（broadcast）机制使得符合一定条件的不同维度的n维数组之间可以进行计算或对n维数组使用通用函数，广播机制是指：\n",
    "* 如果两个数组的维度数不相同，那么小维度数组的形状将会在最左边补1\n",
    "* 如果两个数组的形状在任何一个维度上都不匹配，那么数组的形状会沿着维度为 1 的维度扩展以匹配另外一个数组的形状\n",
    "* 如果两个数组的形状在任何一个维度上都不匹配并且没有任何一个维度等于1，那么会引发异常"
   ]
  },
  {
   "cell_type": "code",
   "execution_count": 9,
   "metadata": {},
   "outputs": [
    {
     "ename": "ValueError",
     "evalue": "operands could not be broadcast together with shapes (1,3) (2,2) ",
     "output_type": "error",
     "traceback": [
      "\u001b[1;31m---------------------------------------------------------------------------\u001b[0m",
      "\u001b[1;31mValueError\u001b[0m                                Traceback (most recent call last)",
      "\u001b[1;32m<ipython-input-9-f7785bbaf8e9>\u001b[0m in \u001b[0;36m<module>\u001b[1;34m\u001b[0m\n\u001b[0;32m      1\u001b[0m \u001b[0ma_arr\u001b[0m \u001b[1;33m=\u001b[0m \u001b[0mnp\u001b[0m\u001b[1;33m.\u001b[0m\u001b[0marray\u001b[0m\u001b[1;33m(\u001b[0m\u001b[1;33m[\u001b[0m\u001b[1;33m[\u001b[0m\u001b[1;36m2\u001b[0m\u001b[1;33m,\u001b[0m\u001b[1;36m3\u001b[0m\u001b[1;33m]\u001b[0m\u001b[1;33m,\u001b[0m \u001b[1;33m[\u001b[0m\u001b[1;36m3\u001b[0m\u001b[1;33m,\u001b[0m\u001b[1;36m4\u001b[0m\u001b[1;33m]\u001b[0m\u001b[1;33m]\u001b[0m\u001b[1;33m)\u001b[0m\u001b[1;33m\u001b[0m\u001b[1;33m\u001b[0m\u001b[0m\n\u001b[0;32m      2\u001b[0m \u001b[0mb_arr\u001b[0m \u001b[1;33m=\u001b[0m \u001b[0mnp\u001b[0m\u001b[1;33m.\u001b[0m\u001b[0marray\u001b[0m\u001b[1;33m(\u001b[0m\u001b[1;33m[\u001b[0m\u001b[1;33m[\u001b[0m\u001b[1;36m1.1\u001b[0m\u001b[1;33m,\u001b[0m \u001b[1;36m2.0\u001b[0m\u001b[1;33m,\u001b[0m \u001b[1;36m4.2\u001b[0m\u001b[1;33m]\u001b[0m\u001b[1;33m]\u001b[0m\u001b[1;33m)\u001b[0m\u001b[1;33m\u001b[0m\u001b[1;33m\u001b[0m\u001b[0m\n\u001b[1;32m----> 3\u001b[1;33m \u001b[0mc_arr\u001b[0m \u001b[1;33m=\u001b[0m \u001b[0mb_arr\u001b[0m \u001b[1;33m+\u001b[0m \u001b[0ma_arr\u001b[0m\u001b[1;33m\u001b[0m\u001b[1;33m\u001b[0m\u001b[0m\n\u001b[0m",
      "\u001b[1;31mValueError\u001b[0m: operands could not be broadcast together with shapes (1,3) (2,2) "
     ]
    }
   ],
   "source": [
    "# 不能使用广播机制的情况下触发ValueError\n",
    "a_arr = np.array([[2,3], [3,4]])\n",
    "b_arr = np.array([[1.1, 2.0, 4.2]])\n",
    "c_arr = b_arr + a_arr"
   ]
  },
  {
   "cell_type": "markdown",
   "metadata": {},
   "source": [
    "numpy中有60多个通用函数（ufunc）"
   ]
  },
  {
   "cell_type": "code",
   "execution_count": 11,
   "metadata": {},
   "outputs": [
    {
     "data": {
      "text/plain": [
       "array([8, 4], dtype=int32)"
      ]
     },
     "execution_count": 11,
     "metadata": {},
     "output_type": "execute_result"
    }
   ],
   "source": [
    "a_arr = np.array([2,2])\n",
    "b_arr = np.array([3,2])\n",
    "c_arr = np.power(a_arr, b_arr)\n",
    "c_arr"
   ]
  },
  {
   "cell_type": "code",
   "execution_count": 12,
   "metadata": {},
   "outputs": [
    {
     "data": {
      "text/plain": [
       "array([1., 1., 6., 7.])"
      ]
     },
     "execution_count": 12,
     "metadata": {},
     "output_type": "execute_result"
    }
   ],
   "source": [
    "r = np.array([1.1, 1.4, 5.9, 7.0])\n",
    "r = np.rint(r)\n",
    "r"
   ]
  },
  {
   "cell_type": "code",
   "execution_count": 13,
   "metadata": {},
   "outputs": [
    {
     "data": {
      "text/plain": [
       "array([0.        , 0.        , 1.79175947, 1.94591015])"
      ]
     },
     "execution_count": 13,
     "metadata": {},
     "output_type": "execute_result"
    }
   ],
   "source": [
    "s = np.log(r)\n",
    "s"
   ]
  },
  {
   "cell_type": "code",
   "execution_count": 14,
   "metadata": {},
   "outputs": [
    {
     "data": {
      "text/plain": [
       "array([[ 0.84147098,  0.14112001,  0.6569866 ],\n",
       "       [ 0.98544973, -0.04158066,  0.94630009],\n",
       "       [-0.7568025 ,  0.96988981, -0.97384763]])"
      ]
     },
     "execution_count": 14,
     "metadata": {},
     "output_type": "execute_result"
    }
   ],
   "source": [
    "r = np.array([[1, 3, 7], [1.4, -3.1, 1.9], [4.0, 8.1, -1.8]])\n",
    "np.sin(r)"
   ]
  },
  {
   "cell_type": "code",
   "execution_count": 15,
   "metadata": {},
   "outputs": [
    {
     "data": {
      "text/plain": [
       "array([[  57.29577951,  171.88733854,  401.07045659],\n",
       "       [  80.21409132, -177.61691649,  108.86198107],\n",
       "       [ 229.18311805,  464.09581406, -103.13240312]])"
      ]
     },
     "execution_count": 15,
     "metadata": {},
     "output_type": "execute_result"
    }
   ],
   "source": [
    "np.rad2deg(r)"
   ]
  },
  {
   "cell_type": "code",
   "execution_count": 18,
   "metadata": {},
   "outputs": [
    {
     "data": {
      "text/plain": [
       "array([4. , 8.1, 7. ])"
      ]
     },
     "execution_count": 18,
     "metadata": {},
     "output_type": "execute_result"
    }
   ],
   "source": [
    "np.max(r, axis=0)"
   ]
  },
  {
   "cell_type": "code",
   "execution_count": null,
   "metadata": {},
   "outputs": [],
   "source": []
  }
 ],
 "metadata": {
  "kernelspec": {
   "display_name": "Python 3",
   "language": "python",
   "name": "python3"
  },
  "language_info": {
   "codemirror_mode": {
    "name": "ipython",
    "version": 3
   },
   "file_extension": ".py",
   "mimetype": "text/x-python",
   "name": "python",
   "nbconvert_exporter": "python",
   "pygments_lexer": "ipython3",
   "version": "3.7.2"
  },
  "toc": {
   "base_numbering": 1,
   "nav_menu": {},
   "number_sections": true,
   "sideBar": true,
   "skip_h1_title": true,
   "title_cell": "Table of Contents",
   "title_sidebar": "Contents",
   "toc_cell": true,
   "toc_position": {},
   "toc_section_display": true,
   "toc_window_display": false
  }
 },
 "nbformat": 4,
 "nbformat_minor": 2
}
