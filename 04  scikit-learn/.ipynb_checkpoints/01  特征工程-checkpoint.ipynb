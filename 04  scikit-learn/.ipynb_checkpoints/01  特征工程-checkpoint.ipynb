{
 "cells": [
  {
   "cell_type": "markdown",
   "metadata": {
    "toc": true
   },
   "source": [
    "<h1>Table of Contents<span class=\"tocSkip\"></span></h1>\n",
    "<div class=\"toc\"><ul class=\"toc-item\"><li><span><a href=\"#数据预处理\" data-toc-modified-id=\"数据预处理-1\"><span class=\"toc-item-num\">1&nbsp;&nbsp;</span>数据预处理</a></span><ul class=\"toc-item\"><li><span><a href=\"#标准化（Standardization,-Z-score-normalization,-or-mean-removal-and-variance-scaling）\" data-toc-modified-id=\"标准化（Standardization,-Z-score-normalization,-or-mean-removal-and-variance-scaling）-1.1\"><span class=\"toc-item-num\">1.1&nbsp;&nbsp;</span>标准化（Standardization, Z-score normalization, or mean removal and variance scaling）</a></span></li><li><span><a href=\"#归一化（Scaling-features-to-a-range）\" data-toc-modified-id=\"归一化（Scaling-features-to-a-range）-1.2\"><span class=\"toc-item-num\">1.2&nbsp;&nbsp;</span>归一化（Scaling features to a range）</a></span></li></ul></li><li><span><a href=\"#缺失值填补\" data-toc-modified-id=\"缺失值填补-2\"><span class=\"toc-item-num\">2&nbsp;&nbsp;</span>缺失值填补</a></span></li><li><span><a href=\"#特征选择\" data-toc-modified-id=\"特征选择-3\"><span class=\"toc-item-num\">3&nbsp;&nbsp;</span>特征选择</a></span></li><li><span><a href=\"#降维\" data-toc-modified-id=\"降维-4\"><span class=\"toc-item-num\">4&nbsp;&nbsp;</span>降维</a></span></li></ul></div>"
   ]
  },
  {
   "cell_type": "code",
   "execution_count": 1,
   "metadata": {},
   "outputs": [],
   "source": [
    "import pandas as pd"
   ]
  },
  {
   "cell_type": "markdown",
   "metadata": {},
   "source": [
    "#### 数据预处理"
   ]
  },
  {
   "cell_type": "markdown",
   "metadata": {},
   "source": [
    "[`sklearn.preprocessing`](https://scikit-learn.org/stable/modules/preprocessing.html#preprocessing)包含了表格数据的预处理方法，包括归一化、标准化、编码等的方法，这些方法的作用是避免特征之间范围或量纲对模型产生影响（例如 `K-means` 等），以及将一些模型无法直接处理的数据进行编码转化。"
   ]
  },
  {
   "cell_type": "markdown",
   "metadata": {},
   "source": [
    "##### 标准化（Standardization, Z-score normalization, or mean removal and variance scaling）"
   ]
  },
  {
   "cell_type": "markdown",
   "metadata": {},
   "source": [
    "标准化的方法是，减去均值后除以标准差，这样如果原来特征数据服从正态分布，那么经过处理的数据就会服从均值为0，方差为1的标准正态分布，这个值有时被称为Z分数（即个这个值距离平均数多少个标准差）：\n",
    "$$x^{\\prime} = \\frac{x - \\bar{x}}{\\mu}$$"
   ]
  },
  {
   "cell_type": "code",
   "execution_count": 3,
   "metadata": {
    "collapsed": true
   },
   "outputs": [
    {
     "data": {
      "text/html": [
       "<div>\n",
       "<style scoped>\n",
       "    .dataframe tbody tr th:only-of-type {\n",
       "        vertical-align: middle;\n",
       "    }\n",
       "\n",
       "    .dataframe tbody tr th {\n",
       "        vertical-align: top;\n",
       "    }\n",
       "\n",
       "    .dataframe thead th {\n",
       "        text-align: right;\n",
       "    }\n",
       "</style>\n",
       "<table border=\"1\" class=\"dataframe\">\n",
       "  <thead>\n",
       "    <tr style=\"text-align: right;\">\n",
       "      <th></th>\n",
       "      <th>0</th>\n",
       "      <th>1</th>\n",
       "    </tr>\n",
       "  </thead>\n",
       "  <tbody>\n",
       "    <tr>\n",
       "      <th>0</th>\n",
       "      <td>0.287164</td>\n",
       "      <td>0.388199</td>\n",
       "    </tr>\n",
       "    <tr>\n",
       "      <th>1</th>\n",
       "      <td>1.306415</td>\n",
       "      <td>-1.680581</td>\n",
       "    </tr>\n",
       "    <tr>\n",
       "      <th>2</th>\n",
       "      <td>-0.718878</td>\n",
       "      <td>-0.005701</td>\n",
       "    </tr>\n",
       "    <tr>\n",
       "      <th>3</th>\n",
       "      <td>-1.755822</td>\n",
       "      <td>-1.237113</td>\n",
       "    </tr>\n",
       "    <tr>\n",
       "      <th>4</th>\n",
       "      <td>1.429622</td>\n",
       "      <td>-0.968282</td>\n",
       "    </tr>\n",
       "    <tr>\n",
       "      <th>...</th>\n",
       "      <td>...</td>\n",
       "      <td>...</td>\n",
       "    </tr>\n",
       "    <tr>\n",
       "      <th>195</th>\n",
       "      <td>-1.170324</td>\n",
       "      <td>1.194141</td>\n",
       "    </tr>\n",
       "    <tr>\n",
       "      <th>196</th>\n",
       "      <td>1.247791</td>\n",
       "      <td>-0.227332</td>\n",
       "    </tr>\n",
       "    <tr>\n",
       "      <th>197</th>\n",
       "      <td>-0.233006</td>\n",
       "      <td>-0.465483</td>\n",
       "    </tr>\n",
       "    <tr>\n",
       "      <th>198</th>\n",
       "      <td>-0.252812</td>\n",
       "      <td>1.475487</td>\n",
       "    </tr>\n",
       "    <tr>\n",
       "      <th>199</th>\n",
       "      <td>1.154730</td>\n",
       "      <td>-0.725805</td>\n",
       "    </tr>\n",
       "  </tbody>\n",
       "</table>\n",
       "<p>200 rows × 2 columns</p>\n",
       "</div>"
      ],
      "text/plain": [
       "            0         1\n",
       "0    0.287164  0.388199\n",
       "1    1.306415 -1.680581\n",
       "2   -0.718878 -0.005701\n",
       "3   -1.755822 -1.237113\n",
       "4    1.429622 -0.968282\n",
       "..        ...       ...\n",
       "195 -1.170324  1.194141\n",
       "196  1.247791 -0.227332\n",
       "197 -0.233006 -0.465483\n",
       "198 -0.252812  1.475487\n",
       "199  1.154730 -0.725805\n",
       "\n",
       "[200 rows x 2 columns]"
      ]
     },
     "execution_count": 3,
     "metadata": {},
     "output_type": "execute_result"
    }
   ],
   "source": [
    "from sklearn.preprocessing import StandardScaler\n",
    "from sklearn.datasets import make_moons\n",
    "\n",
    "data_set = make_moons(n_samples=200, noise=0.2, random_state=0)\n",
    "X, y = data_set[0], data_set[1]\n",
    "scaler = StandardScaler()\n",
    "scaler.fit(X)\n",
    "\n",
    "# print(scaler.mean_, scaler.var_)\n",
    "\n",
    "X_std = scaler.transform(X)\n",
    "\n",
    "# print(X_std.mean(), X_std.std())\n",
    "\n",
    "X_std_trans = scaler.fit_transform(X)\n",
    "pd.DataFrame(X_std_trans)\n",
    "\n",
    "# 可以通过 scaler.inverse_transform(X_std_trans) 进行还原"
   ]
  },
  {
   "cell_type": "markdown",
   "metadata": {},
   "source": [
    "##### 归一化（Scaling features to a range）"
   ]
  },
  {
   "cell_type": "markdown",
   "metadata": {},
   "source": [
    "归一化是指将数据整理到一个固定的范围内，如 $[0,1]$，`sklearn`中主要用`sklearn.preprocessing.MinMaxScaler`和`sklearn.preprocessing.MaxAbsScaler`两种方式实现。  "
   ]
  },
  {
   "cell_type": "markdown",
   "metadata": {},
   "source": [
    "`MinMaxScaler(feature_range=(0, 1))`的具体方法是将数据压缩（或扩大到）0到1之间（这个范围是默认参数，可以修改）：\n",
    "$$x^{\\prime} = \\frac{x - x_{min}}{x_{max}-x_{min}}$$"
   ]
  },
  {
   "cell_type": "markdown",
   "metadata": {},
   "source": [
    "`sklearn.preprocessing.MaxAbsScaler()`则会将数据缩放到 $[-1,1]$ 范围内，具体做法是：\n",
    "$$x^{\\prime} = \\frac{x }{\\vert x\\vert_{max}}$$"
   ]
  },
  {
   "cell_type": "code",
   "execution_count": 12,
   "metadata": {},
   "outputs": [
    {
     "name": "stdout",
     "output_type": "stream",
     "text": [
      "[0. 0.] [1. 1.]\n"
     ]
    }
   ],
   "source": [
    "from sklearn.preprocessing import MinMaxScaler\n",
    "from sklearn.datasets import make_circles\n",
    "\n",
    "data_set = make_circles(n_samples=200, noise=0.4, random_state=0)\n",
    "X, y = data_set[0], data_set[1]\n",
    "\n",
    "scaler = MinMaxScaler()\n",
    "\n",
    "X_mimx = scaler.fit_transform(X)\n",
    "print(X_mimx.min(axis=0), X_mimx.max(axis=0))"
   ]
  },
  {
   "cell_type": "markdown",
   "metadata": {},
   "source": [
    "#### 缺失值填补"
   ]
  },
  {
   "cell_type": "code",
   "execution_count": null,
   "metadata": {
    "collapsed": true
   },
   "outputs": [],
   "source": []
  },
  {
   "cell_type": "markdown",
   "metadata": {},
   "source": [
    "#### 特征选择"
   ]
  },
  {
   "cell_type": "code",
   "execution_count": null,
   "metadata": {
    "collapsed": true
   },
   "outputs": [],
   "source": []
  },
  {
   "cell_type": "markdown",
   "metadata": {},
   "source": [
    "#### 降维"
   ]
  },
  {
   "cell_type": "code",
   "execution_count": null,
   "metadata": {
    "collapsed": true
   },
   "outputs": [],
   "source": []
  },
  {
   "cell_type": "markdown",
   "metadata": {},
   "source": [
    "另一些降维的算法，参考[heucoder/dimensionality_reduction_alo_codes](https://github.com/heucoder/dimensionality_reduction_alo_codes)"
   ]
  },
  {
   "cell_type": "code",
   "execution_count": null,
   "metadata": {
    "collapsed": true
   },
   "outputs": [],
   "source": []
  }
 ],
 "metadata": {
  "kernelspec": {
   "display_name": "Python 3",
   "language": "python",
   "name": "python3"
  },
  "language_info": {
   "codemirror_mode": {
    "name": "ipython",
    "version": 3
   },
   "file_extension": ".py",
   "mimetype": "text/x-python",
   "name": "python",
   "nbconvert_exporter": "python",
   "pygments_lexer": "ipython3",
   "version": "3.7.2"
  },
  "toc": {
   "base_numbering": 1,
   "nav_menu": {},
   "number_sections": true,
   "sideBar": true,
   "skip_h1_title": true,
   "title_cell": "Table of Contents",
   "title_sidebar": "Contents",
   "toc_cell": true,
   "toc_position": {},
   "toc_section_display": true,
   "toc_window_display": false
  }
 },
 "nbformat": 4,
 "nbformat_minor": 2
}
